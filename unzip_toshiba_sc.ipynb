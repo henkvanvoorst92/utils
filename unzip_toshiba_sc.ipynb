{
 "cells": [
  {
   "cell_type": "code",
   "execution_count": 2,
   "id": "3a547d0a",
   "metadata": {},
   "outputs": [],
   "source": [
    "import zipfile\n",
    "from zipfile import ZipFile\n",
    "import os\n",
    "import shutil\n",
    "import io\n",
    "#from tqdm import tqdm\n",
    "\n",
    "path = '/data/hvv/Toshiba_sc'\n",
    "p_zip = os.path.join(path,'zipped')\n",
    "p_new = path"
   ]
  },
  {
   "cell_type": "code",
   "execution_count": 59,
   "id": "c13da061",
   "metadata": {},
   "outputs": [
    {
     "name": "stdout",
     "output_type": "stream",
     "text": [
      "/data/hvv/Toshiba_sc/zipped/HENK-20231027T161822Z-025.zip\n",
      "/data/hvv/Toshiba_sc/zipped/HENK-20231027T161822Z-018.zip\n",
      "/data/hvv/Toshiba_sc/zipped/HENK-20231027T161822Z-004.zip\n",
      "/data/hvv/Toshiba_sc/zipped/HENK-20231027T161822Z-007.zip\n",
      "/data/hvv/Toshiba_sc/zipped/HENK-20231027T161822Z-026.zip\n",
      "/data/hvv/Toshiba_sc/zipped/HENK-20231027T161822Z-001.zip\n",
      "/data/hvv/Toshiba_sc/zipped/HENK-20231027T161822Z-008.zip\n",
      "/data/hvv/Toshiba_sc/zipped/HENK-20231027T161822Z-003.zip\n",
      "/data/hvv/Toshiba_sc/zipped/HENK-20231027T161822Z-019.zip\n",
      "/data/hvv/Toshiba_sc/zipped/HENK-20231027T161822Z-024.zip\n",
      "/data/hvv/Toshiba_sc/zipped/HENK-20231027T161822Z-015.zip\n",
      "/data/hvv/Toshiba_sc/zipped/HENK-20231027T161822Z-027.zip\n",
      "/data/hvv/Toshiba_sc/zipped/HENK-20231027T161822Z-021.zip\n",
      "/data/hvv/Toshiba_sc/zipped/HENK-20231027T161822Z-016.zip\n",
      "/data/hvv/Toshiba_sc/zipped/HENK-20231027T161822Z-009.zip\n",
      "/data/hvv/Toshiba_sc/zipped/HENK-20231027T161822Z-006.zip\n",
      "/data/hvv/Toshiba_sc/zipped/HENK-20231027T161822Z-012.zip\n",
      "/data/hvv/Toshiba_sc/zipped/HENK-20231027T161822Z-002.zip\n",
      "Unzipping nested zip: HENK/gcperf.zip\n",
      "/data/hvv/Toshiba_sc/zipped/HENK-20231027T161822Z-022.zip\n",
      "/data/hvv/Toshiba_sc/zipped/HENK-20231027T161822Z-011.zip\n",
      "/data/hvv/Toshiba_sc/zipped/HENK-20231027T161822Z-014.zip\n",
      "/data/hvv/Toshiba_sc/zipped/HENK-20231027T161822Z-023.zip\n",
      "/data/hvv/Toshiba_sc/zipped/HENK-20231027T161822Z-013.zip\n",
      "/data/hvv/Toshiba_sc/zipped/HENK-20231027T161822Z-005.zip\n",
      "/data/hvv/Toshiba_sc/zipped/HENK-20231027T161822Z-020.zip\n",
      "/data/hvv/Toshiba_sc/zipped/HENK-20231027T161822Z-010.zip\n",
      "/data/hvv/Toshiba_sc/zipped/HENK-20231027T161822Z-017.zip\n"
     ]
    }
   ],
   "source": [
    "for f in os.listdir(p_zip):\n",
    "    if not '.zip' in f:\n",
    "        continue\n",
    "    file = os.path.join(p_zip,f)\n",
    "    f_new = os.path.splitext(f)[0]\n",
    "    print(file)\n",
    "    \n",
    "    with ZipFile(file) as z:\n",
    "        for fz in ZipFile.namelist(z):\n",
    "            if '.zip' not in fz:\n",
    "                print('Not nested zip detected:',fz)\n",
    "                continue\n",
    "            \n",
    "            fzname = os.path.splitext(fz)[0].split(os.sep)[-1]\n",
    "            if fzname in os.listdir(p_new):\n",
    "                #print('Skipping', fzname)\n",
    "                continue\n",
    "            \n",
    "            print('Unzipping nested zip:',fz)\n",
    "            with z.open(fz) as z2:\n",
    "                z2_filedata =  io.BytesIO(z2.read())\n",
    "                with ZipFile(z2_filedata) as nested_zip:\n",
    "                    nested_zip.extractall(p_new)"
   ]
  },
  {
   "cell_type": "code",
   "execution_count": 5,
   "id": "8046d2bb",
   "metadata": {},
   "outputs": [
    {
     "name": "stdout",
     "output_type": "stream",
     "text": [
      "# conda environments:\r\n",
      "#\r\n",
      "base                     /home/hvv/anaconda\r\n",
      "py39                     /home/hvv/anaconda/envs/py39\r\n",
      "\r\n"
     ]
    }
   ],
   "source": [
    "!conda info --envs"
   ]
  },
  {
   "cell_type": "code",
   "execution_count": null,
   "id": "9884ffac",
   "metadata": {},
   "outputs": [],
   "source": []
  }
 ],
 "metadata": {
  "kernelspec": {
   "display_name": "Python 3 (ipykernel)",
   "language": "python",
   "name": "python3"
  },
  "language_info": {
   "codemirror_mode": {
    "name": "ipython",
    "version": 3
   },
   "file_extension": ".py",
   "mimetype": "text/x-python",
   "name": "python",
   "nbconvert_exporter": "python",
   "pygments_lexer": "ipython3",
   "version": "3.9.0"
  }
 },
 "nbformat": 4,
 "nbformat_minor": 5
}
